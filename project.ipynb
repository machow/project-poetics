{
 "cells": [
  {
   "cell_type": "markdown",
   "metadata": {},
   "source": [
    "# Introduction to poetics"
   ]
  },
  {
   "cell_type": "code",
   "execution_count": null,
   "metadata": {},
   "outputs": [],
   "source": [
    "# This is a code cell without any tag. You can put convenience code here,\n",
    "# but it won't be included in any way in the final project.\n",
    "# For example, to be able to run tests locally in the notebook\n",
    "# you need to install the following:\n",
    "# pip install nose\n",
    "# pip install git+https://github.com/datacamp/ipython_nose\n",
    "# and then load in the ipython_nose extension like this:\n",
    "%load_ext ipython_nose"
   ]
  },
  {
   "cell_type": "markdown",
   "metadata": {},
   "source": [
    "This is a markdown cell without any tag. You can put text / TODOs / etc. here\n",
    "but it won't be included in any way in the final project.\n",
    "\n",
    "For example, here is the documentation of the format of a DataCamp Project notebook: https://authoring.datacamp.com/projects/projects-format.html"
   ]
  },
  {
   "cell_type": "markdown",
   "metadata": {
    "tags": [
     "type:NotebookTask"
    ]
   },
   "source": [
    "## Poetics"
   ]
  },
  {
   "cell_type": "markdown",
   "metadata": {
    "tags": [
     "@context"
    ]
   },
   "source": [
    "The `poetics` library contains experiments on computational poetry.\n",
    "Here is an example of replacing the text of a poem, with words that are\n",
    "phonologically similar to it!"
   ]
  },
  {
   "cell_type": "markdown",
   "metadata": {
    "tags": [
     "@instructions"
    ]
   },
   "source": [
    "Run the cell to see the transformed poem.\n",
    "\n",
    "- Try changing the text, and re-running everything.\n",
    "\n",
    "<hr>\n",
    "\n",
    "## Good to know\n",
    "\n",
    "https://github.com/machow/poetics-py"
   ]
  },
  {
   "cell_type": "markdown",
   "metadata": {
    "tags": [
     "@hint"
    ]
   },
   "source": [
    "No hints yet :/"
   ]
  },
  {
   "cell_type": "code",
   "execution_count": null,
   "metadata": {
    "tags": [
     "@sample_code"
    ]
   },
   "outputs": [],
   "source": [
    "import pandas as pd\n",
    "\n",
    "# lots of pre-processing for now\n",
    "d_orig = pd.read_csv('datasets/cmudict-xsampa.csv')\n",
    "d_orig['split'] = d_orig['pronounce'].apply(lambda s: s.split(\" \"))\n",
    "d_orig['length'] = d_orig['split'].apply(len)\n",
    "d_orig.index = d_orig.word\n",
    "print('unique pronunciations:', len(d_orig.pronounce.unique()))\n",
    "\n",
    "# for homophones, keep only most popular\n",
    "d_orig.sort_values(by = 'prob', ascending = False, inplace = True)\n",
    "d = d_orig.drop_duplicates(subset = 'pronounce')\n",
    "d_small = d[d.prob > -16]\n",
    "\n",
    "# excerpt from hair by Maryan Captan - \n",
    "# http://thebodyinparts.tumblr.com/\n",
    "sentence = \"\"\"her hair\n",
    "will keep changing\n",
    "it will grow and we will cut it\n",
    "and maybe it will turn\n",
    "white or grey or silver\n",
    "and i wont recognize her\n",
    "the way i recognize her now,\n",
    "her hair plastered to her cheeks .\"\"\".replace('.', '').replace(',','').replace('\\n', \" \")\n",
    "\n",
    "from poetics import HasteTar\n",
    "\n",
    "ht = HasteTar(sentence, d_small, d_orig)\n",
    "out = list(ht.astar(ht.nodes[0], ht.nodes[-1]))\n",
    "\n",
    "# best_fit_words is a dict with the most similar words\n",
    "# and their fit scores. We take only the first one.\n",
    "final = []\n",
    "for phons in ht.path_to_phonemes(out):\n",
    "    final.append(list(ht.best_fit_words(phons).keys())[0])\n",
    "\n",
    "\" \".join(final)"
   ]
  },
  {
   "cell_type": "code",
   "execution_count": null,
   "metadata": {
    "tags": [
     "@solution"
    ]
   },
   "outputs": [],
   "source": [
    "# nah"
   ]
  },
  {
   "cell_type": "code",
   "execution_count": null,
   "metadata": {
    "tags": [
     "@tests"
    ]
   },
   "outputs": [],
   "source": [
    "%%nose\n",
    "\n",
    "def test_nothing():\n",
    "    assert True"
   ]
  }
 ],
 "metadata": {
  "celltoolbar": "Tags",
  "kernelspec": {
   "display_name": "Python 3",
   "language": "python",
   "name": "python3"
  },
  "language_info": {
   "codemirror_mode": {
    "name": "ipython",
    "version": 3
   },
   "file_extension": ".py",
   "mimetype": "text/x-python",
   "name": "python",
   "nbconvert_exporter": "python",
   "pygments_lexer": "ipython3",
   "version": "3.6.4"
  }
 },
 "nbformat": 4,
 "nbformat_minor": 2
}
